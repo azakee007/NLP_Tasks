{
 "cells": [
  {
   "cell_type": "code",
   "execution_count": 9,
   "metadata": {},
   "outputs": [
    {
     "name": "stdout",
     "output_type": "stream",
     "text": [
      "[nltk_data] Downloading package punkt to\n",
      "[nltk_data]     C:\\Users\\hp\\AppData\\Roaming\\nltk_data...\n",
      "[nltk_data]   Package punkt is already up-to-date!\n",
      "['My dog got bored and chased our cat.', 'The cat jumped into my arms']\n"
     ]
    }
   ],
   "source": [
    "import nltk\n",
    "nltk.download('punkt')\n",
    "text = 'My dog got bored and chased our cat. The cat jumped into my arms'\n",
    "sent = nltk.sent_tokenize(text)\n",
    "print(sent)"
   ]
  },
  {
   "cell_type": "code",
   "execution_count": 8,
   "metadata": {},
   "outputs": [
    {
     "name": "stdout",
     "output_type": "stream",
     "text": [
      "['My', 'dog', 'got', 'bored', 'and', 'chased', 'our', 'cat', '.', 'The', 'cat', 'jumped', 'into', 'my', 'arms']\n"
     ]
    }
   ],
   "source": [
    "word = nltk.word_tokenize(text)\n",
    "print(word)"
   ]
  },
  {
   "cell_type": "code",
   "execution_count": 15,
   "metadata": {},
   "outputs": [
    {
     "data": {
      "text/plain": [
       "['Make',\n",
       " 'investment',\n",
       " 'right',\n",
       " 'now',\n",
       " 'on',\n",
       " '#tokenizer',\n",
       " 'and',\n",
       " 'earn',\n",
       " 'up',\n",
       " 'to',\n",
       " '7',\n",
       " '%',\n",
       " 'per',\n",
       " 'day',\n",
       " '!',\n",
       " 'SIGN',\n",
       " 'UP',\n",
       " 'NOW',\n",
       " '!',\n",
       " '!',\n",
       " 'on',\n",
       " 'the',\n",
       " 'link',\n",
       " 'below',\n",
       " ':',\n",
       " 'https://tokenizer.biz/ref/2856',\n",
       " '#Airdrop',\n",
       " '#Investment',\n",
       " '#Bitcoin',\n",
       " '#Ethereum',\n",
       " '#BitcoinCash',\n",
       " '#Litecoin',\n",
       " '#Cryptocurrency',\n",
       " '#blockchain',\n",
       " '#promo',\n",
       " '#income',\n",
       " '#Tokenizer',\n",
       " '#BTC',\n",
       " '#USD',\n",
       " '#BCH',\n",
       " '#ETH',\n",
       " '#TokenSale',\n",
       " '#LTC']"
      ]
     },
     "execution_count": 15,
     "metadata": {},
     "output_type": "execute_result"
    }
   ],
   "source": [
    "\"\"\"\n",
    "Twitter\n",
    "\"\"\"\n",
    "\n",
    "from nltk.tokenize import TweetTokenizer\n",
    "text = '''Make investment right now on #tokenizer and earn up to 7% per day! SIGN UP NOW!! on the link below : https://tokenizer.biz/ref/2856 \n",
    "\n",
    "#Airdrop #Investment #Bitcoin #Ethereum #BitcoinCash #Litecoin #Cryptocurrency #blockchain #promo #income #Tokenizer #BTC #USD #BCH #ETH #TokenSale #LTC'''\n",
    "twtkn = TweetTokenizer()\n",
    "twtkn.tokenize(text)"
   ]
  }
 ],
 "metadata": {
  "kernelspec": {
   "display_name": "Python 3",
   "language": "python",
   "name": "python3"
  },
  "language_info": {
   "codemirror_mode": {
    "name": "ipython",
    "version": 3
   },
   "file_extension": ".py",
   "mimetype": "text/x-python",
   "name": "python",
   "nbconvert_exporter": "python",
   "pygments_lexer": "ipython3",
   "version": "3.6.6"
  }
 },
 "nbformat": 4,
 "nbformat_minor": 2
}
