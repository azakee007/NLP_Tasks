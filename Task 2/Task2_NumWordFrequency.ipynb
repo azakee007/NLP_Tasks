{
 "cells": [
  {
   "cell_type": "code",
   "execution_count": 7,
   "metadata": {},
   "outputs": [
    {
     "name": "stdout",
     "output_type": "stream",
     "text": [
      "Two lettered words\t 194182\n",
      "Three lettered words\t 214199\n",
      "Four lettered words\t 160575\n",
      "Five lettered words\t 109803\n",
      "Six lettered words\t 85639\n",
      "\n",
      "\n",
      "\n"
     ]
    },
    {
     "data": {
      "image/png": "[encoded data removed]",
      "text/plain": [
       "<Figure size 432x288 with 1 Axes>"
      ]
     },
     "metadata": {},
     "output_type": "display_data"
    }
   ],
   "source": [
    "# -*- coding: utf-8 -*-\n",
    "\"\"\"\n",
    "@author: Ashraf\n",
    "\"\"\"\n",
    "\n",
    "#counting the numbers of 2,3,4,5 letter words in brown\n",
    "import nltk\n",
    "from nltk.corpus import brown\n",
    "import matplotlib.pyplot as plt\n",
    "#nltk.download(\"brown\")\n",
    "import numpy as np\n",
    "list_of_words=brown.words()\n",
    "two_list=[]\n",
    "three_list=[]\n",
    "four_list=[]\n",
    "five_list=[]\n",
    "six_list=[]\n",
    "count=1\n",
    "size=len(list_of_words)\n",
    "for i in list_of_words:\n",
    "    #print(count/size*100)\n",
    "    count+=1\n",
    "    if(len(i)==2):\n",
    "        two_list.append(i)\n",
    "    if(len(i)==3):\n",
    "        three_list.append(i)\n",
    "    if(len(i)==4):\n",
    "        four_list.append(i)\n",
    "    if(len(i)==5):\n",
    "        five_list.append(i)\n",
    "    if(len(i)==6):\n",
    "        six_list.append(i)\n",
    "print(\"Two lettered words\\t\",len(two_list))\n",
    "print(\"Three lettered words\\t\",len(three_list))\n",
    "print(\"Four lettered words\\t\",len(four_list))\n",
    "print(\"Five lettered words\\t\",len(five_list))\n",
    "print(\"Six lettered words\\t\",len(six_list))\n",
    "print(\"\\n\\n\")\n",
    "x_axis=[\"Two lettered words\",\"Three lettered words\",\"Four lettered words\",\"Five lettered words\",\"Six lettered words\"]\n",
    "y_axis=[len(two_list),len(three_list),len(four_list),len(five_list),len(six_list)]\n",
    "plt.bar(x_axis, y_axis)\n",
    "plt.xticks(np.arange(5),x_axis,rotation=\"vertical\")\n",
    "plt.show()"
   ]
  },
  {
   "cell_type": "code",
   "execution_count": null,
   "metadata": {
    "collapsed": true
   },
   "outputs": [],
   "source": []
  }
 ],
 "metadata": {
  "kernelspec": {
   "display_name": "Python 3",
   "language": "python",
   "name": "python3"
  },
  "language_info": {
   "codemirror_mode": {
    "name": "ipython",
    "version": 3
   },
   "file_extension": ".py",
   "mimetype": "text/x-python",
   "name": "python",
   "nbconvert_exporter": "python",
   "pygments_lexer": "ipython3",
   "version": "3.6.6"
  }
 },
 "nbformat": 4,
 "nbformat_minor": 2
}
