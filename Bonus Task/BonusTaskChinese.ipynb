{
 "cells": [
  {
   "cell_type": "code",
   "execution_count": 1,
   "metadata": {},
   "outputs": [
    {
     "name": "stdout",
     "output_type": "stream",
     "text": [
      "['清华', '大学', '位于', '北京', '。']\n",
      "[('清华', 'NR'), ('大学', 'NN'), ('位于', 'VV'), ('北京', 'NR'), ('。', 'PU')]\n",
      "[('清华', 'ORGANIZATION'), ('大学', 'ORGANIZATION'), ('位于', 'O'), ('北京', 'STATE_OR_PROVINCE'), ('。', 'O')]\n",
      "(ROOT\n",
      "  (IP\n",
      "    (NP (NR 清华) (NN 大学))\n",
      "    (VP (VV 位于)\n",
      "      (NP (NR 北京)))\n",
      "    (PU 。)))\n",
      "[('ROOT', 0, 3), ('compound:nn', 2, 1), ('nsubj', 3, 2), ('dobj', 3, 4), ('punct', 3, 5)]\n"
     ]
    }
   ],
   "source": [
    "\"\"\"\n",
    "@author: Ashraf\n",
    "\"\"\"\n",
    "from stanfordcorenlp import StanfordCoreNLP\n",
    "#download cstanford corenlp from the website\n",
    "#download the addtional model file for chinese\n",
    "#pip install stanfordcorenlp\n",
    "\n",
    "sentence = '清华大学位于北京。'\n",
    "\n",
    "with StanfordCoreNLP(r'G:/VIT/7th Semester/NLP/stanford-corenlp-full-2018-02-27', lang='zh') as nlp:\n",
    "    print(nlp.word_tokenize(sentence))\n",
    "    print(nlp.pos_tag(sentence))\n",
    "    print(nlp.ner(sentence))\n",
    "    print(nlp.parse(sentence))\n",
    "    print(nlp.dependency_parse(sentence))"
   ]
  },
  {
   "cell_type": "code",
   "execution_count": null,
   "metadata": {
    "collapsed": true
   },
   "outputs": [],
   "source": []
  }
 ],
 "metadata": {
  "kernelspec": {
   "display_name": "Python 3",
   "language": "python",
   "name": "python3"
  },
  "language_info": {
   "codemirror_mode": {
    "name": "ipython",
    "version": 3
   },
   "file_extension": ".py",
   "mimetype": "text/x-python",
   "name": "python",
   "nbconvert_exporter": "python",
   "pygments_lexer": "ipython3",
   "version": "3.6.6"
  }
 },
 "nbformat": 4,
 "nbformat_minor": 2
}
